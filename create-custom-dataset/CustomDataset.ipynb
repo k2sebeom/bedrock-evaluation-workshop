{
 "cells": [
  {
   "cell_type": "markdown",
   "id": "a35b7a67-0a0f-4123-8486-f11bbc8ff656",
   "metadata": {},
   "source": [
    "# Prepare Custom Dataset\n",
    "\n",
    "This notebook will generate a Bedrock Evaluations compatible jsonl file for an evaluation job using [GSM8K](https://github.com/openai/grade-school-math) dataset"
   ]
  },
  {
   "cell_type": "markdown",
   "id": "40d394f6-76fe-4f40-9ff8-c44dfd8172ea",
   "metadata": {},
   "source": [
    "## Get GSM8K Dataset"
   ]
  },
  {
   "cell_type": "code",
   "execution_count": null,
   "id": "426423e9-a9a5-4996-aece-d98b2fe9170a",
   "metadata": {},
   "outputs": [],
   "source": [
    "from urllib.request import urlretrieve\n",
    "\n",
    "raw_file_name = 'train.jsonl'\n",
    "\n",
    "urlretrieve('https://raw.githubusercontent.com/openai/grade-school-math/refs/heads/master/grade_school_math/data/train.jsonl', raw_file_name)"
   ]
  },
  {
   "cell_type": "markdown",
   "id": "6fec1fb3-91b0-47d4-b07c-52ab2717503d",
   "metadata": {},
   "source": [
    "## Read the first 1000 lines"
   ]
  },
  {
   "cell_type": "code",
   "execution_count": null,
   "id": "aca72247-656e-4af1-b26d-664f4359f70e",
   "metadata": {},
   "outputs": [],
   "source": [
    "import json\n",
    "\n",
    "rows = []\n",
    "\n",
    "with open(raw_file_name, 'r') as f:\n",
    "    for _ in range(1000):\n",
    "        rows.append(json.loads(f.readline()))"
   ]
  },
  {
   "cell_type": "markdown",
   "id": "91db858a-703a-48bc-bbd7-93b0bbb53283",
   "metadata": {},
   "source": [
    "## Generate Prompt Dataset"
   ]
  },
  {
   "cell_type": "code",
   "execution_count": null,
   "id": "5fc8c4ef-aa75-42a3-9d5c-4a215f6cc428",
   "metadata": {},
   "outputs": [],
   "source": [
    "from pprint import pprint\n",
    "\n",
    "prompt_template = \"\"\"Solve the following math problem.\n",
    "\n",
    "{}\n",
    "\n",
    "Respond by only providing an answer to the question\"\"\"\n",
    "\n",
    "def to_prompt_json(obj):\n",
    "    quesiton = obj.get('question')\n",
    "    answer = obj.get('answer')\n",
    "    answer_pos = answer.find('####') + 4\n",
    "    arith_answer = answer[answer_pos:]\n",
    "\n",
    "    return {\n",
    "        'prompt': prompt_template.format(quesiton),\n",
    "        'referenceResponse': arith_answer.strip(),\n",
    "    }\n",
    "\n",
    "def to_prompt_json_line(obj):\n",
    "    return json.dumps(to_prompt_json(obj)) + '\\n'\n",
    "\n",
    "print('### Prompt looks like this ###\\n')\n",
    "pprint(to_prompt_json(rows[0]))"
   ]
  },
  {
   "cell_type": "markdown",
   "id": "e5be8541-e9f3-4b72-adf6-326740606899",
   "metadata": {},
   "source": [
    "## Save the Prompt Dataset"
   ]
  },
  {
   "cell_type": "code",
   "execution_count": null,
   "id": "d1a807b2-45f7-497d-a2b0-9ef5cd9b63f0",
   "metadata": {},
   "outputs": [],
   "source": [
    "with open('gsm8k.jsonl', 'w') as f:\n",
    "    f.writelines([to_prompt_json_line(row) for row in rows])"
   ]
  }
 ],
 "metadata": {
  "kernelspec": {
   "display_name": "Python 3 (ipykernel)",
   "language": "python",
   "name": "python3"
  },
  "language_info": {
   "codemirror_mode": {
    "name": "ipython",
    "version": 3
   },
   "file_extension": ".py",
   "mimetype": "text/x-python",
   "name": "python",
   "nbconvert_exporter": "python",
   "pygments_lexer": "ipython3",
   "version": "3.11.11"
  }
 },
 "nbformat": 4,
 "nbformat_minor": 5
}
