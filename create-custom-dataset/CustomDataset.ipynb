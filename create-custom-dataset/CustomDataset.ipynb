{
 "cells": [
  {
   "cell_type": "markdown",
   "id": "a35b7a67-0a0f-4123-8486-f11bbc8ff656",
   "metadata": {},
   "source": [
    "# Prepare Custom Dataset\n",
    "\n",
    "This notebook will generate a Bedrock Evaluations compatible jsonl file for an evaluation job using [CNN/DailyMail](https://huggingface.co/datasets/abisee/cnn_dailymail) dataset"
   ]
  },
  {
   "cell_type": "markdown",
   "id": "40d394f6-76fe-4f40-9ff8-c44dfd8172ea",
   "metadata": {},
   "source": [
    "## Get CNN/DailyMail Dataset"
   ]
  },
  {
   "cell_type": "code",
   "execution_count": null,
   "id": "426423e9-a9a5-4996-aece-d98b2fe9170a",
   "metadata": {},
   "outputs": [],
   "source": [
    "from datasets import load_dataset\n",
    "\n",
    "dataset = load_dataset(\"abisee/cnn_dailymail\", \"3.0.0\")"
   ]
  },
  {
   "cell_type": "markdown",
   "id": "91db858a-703a-48bc-bbd7-93b0bbb53283",
   "metadata": {},
   "source": [
    "## Generate Prompt Dataset"
   ]
  },
  {
   "cell_type": "code",
   "execution_count": null,
   "id": "5fc8c4ef-aa75-42a3-9d5c-4a215f6cc428",
   "metadata": {},
   "outputs": [],
   "source": [
    "from pprint import pprint\n",
    "import json\n",
    "\n",
    "prompt_template = instruction='''Summarize the news article provided below. Do not provide anything other than a clean summarization in couple sentences.\n",
    "\n",
    "Article: {}\n",
    "'''\n",
    "\n",
    "def to_prompt_json(obj):\n",
    "    article = obj['article']\n",
    "    highlight = obj.get('highlights')\n",
    "\n",
    "    return {\n",
    "        'prompt': prompt_template.format(article),\n",
    "        'referenceResponse': highlight,\n",
    "    }\n",
    "\n",
    "def to_prompt_json_line(obj):\n",
    "    return json.dumps(to_prompt_json(obj)) + '\\n'\n",
    "\n",
    "\n",
    "print('### Prompt looks like this ###\\n')\n",
    "pprint(to_prompt_json(dataset['train'][0]))"
   ]
  },
  {
   "cell_type": "markdown",
   "id": "e5be8541-e9f3-4b72-adf6-326740606899",
   "metadata": {},
   "source": [
    "## Save the Prompt Dataset"
   ]
  },
  {
   "cell_type": "code",
   "execution_count": null,
   "id": "d1a807b2-45f7-497d-a2b0-9ef5cd9b63f0",
   "metadata": {},
   "outputs": [],
   "source": [
    "import random\n",
    "\n",
    "# Randomly select 1000 prompts\n",
    "indices = [random.randint(0, len(dataset['train'])) for _ in range(1000)]\n",
    "\n",
    "train_set = dataset['train']\n",
    "prompt_file_name = 'cnn_dailymail.jsonl'\n",
    "\n",
    "with open(prompt_file_name, 'w') as f:\n",
    "    f.writelines([to_prompt_json_line(train_set[i]) for i in indices])"
   ]
  },
  {
   "cell_type": "markdown",
   "id": "db77078d-64a9-4e12-ab08-44a32c63ef81",
   "metadata": {},
   "source": [
    "## Upload Data to S3"
   ]
  },
  {
   "cell_type": "code",
   "execution_count": null,
   "id": "1ff26aa1-fb63-47eb-9054-4ce51ee95110",
   "metadata": {},
   "outputs": [],
   "source": [
    "import boto3\n",
    "\n",
    "BUCKET_NAME = \"bedrock-evaluation-YOUR BUCKET NAME\"\n",
    "\n",
    "s3_client = boto3.client('s3')\n",
    "s3_client.upload_file(prompt_file_name, BUCKET_NAME, f'datasets/{prompt_file_name}')"
   ]
  }
 ],
 "metadata": {
  "kernelspec": {
   "display_name": "Python 3 (ipykernel)",
   "language": "python",
   "name": "python3"
  },
  "language_info": {
   "codemirror_mode": {
    "name": "ipython",
    "version": 3
   },
   "file_extension": ".py",
   "mimetype": "text/x-python",
   "name": "python",
   "nbconvert_exporter": "python",
   "pygments_lexer": "ipython3",
   "version": "3.11.11"
  }
 },
 "nbformat": 4,
 "nbformat_minor": 5
}
