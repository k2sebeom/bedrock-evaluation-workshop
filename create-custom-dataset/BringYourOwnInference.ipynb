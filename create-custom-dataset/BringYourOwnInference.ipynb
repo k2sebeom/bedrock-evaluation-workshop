{
 "cells": [
  {
   "cell_type": "markdown",
   "id": "f08c69dc-a3bf-48b3-9362-869ab7d2ae68",
   "metadata": {},
   "source": [
    "# Prepare BYOIDataset\n",
    "\n",
    "This notebook will generate a Bedrock Evaluations compatible jsonl file for an evaluation job using [CNN/DailyMail](https://huggingface.co/datasets/abisee/cnn_dailymail) dataset"
   ]
  },
  {
   "cell_type": "markdown",
   "id": "ab87ca91-c2a9-4f78-93cc-844c72802fca",
   "metadata": {},
   "source": [
    "## Install dependencies"
   ]
  },
  {
   "cell_type": "code",
   "execution_count": null,
   "id": "90a58d86-d7f6-447d-b026-e17cc732ec66",
   "metadata": {},
   "outputs": [],
   "source": [
    "%pip install -U datasets"
   ]
  },
  {
   "cell_type": "markdown",
   "id": "722ecdfc-7f07-45e3-b215-7ea1e4ab252d",
   "metadata": {},
   "source": [
    "## Get CNN/DailyMail Dataset\n",
    "\n",
    "Restart the kernel if the command fails"
   ]
  },
  {
   "cell_type": "code",
   "execution_count": null,
   "id": "13094f07-e630-437e-8ba2-cdd6a647681c",
   "metadata": {},
   "outputs": [],
   "source": [
    "from datasets import load_dataset\n",
    "\n",
    "dataset = load_dataset(\"abisee/cnn_dailymail\", \"3.0.0\")\n",
    "train_set = dataset['train']\n",
    "test_set = dataset['test']"
   ]
  },
  {
   "cell_type": "markdown",
   "id": "e9154910-c1f9-4707-bbd3-6cc58a692a97",
   "metadata": {},
   "source": [
    "## Create Dummy Summarizer"
   ]
  },
  {
   "cell_type": "code",
   "execution_count": null,
   "id": "4108fb8a-ad87-40cb-8cf1-5d32cd837524",
   "metadata": {},
   "outputs": [],
   "source": [
    "import random\n",
    "\n",
    "class DummySummarizer:\n",
    "    def __init__(self, num_tokens: int):\n",
    "        self.num_tokens = num_tokens\n",
    "    \n",
    "    def __call__(self, text: str) -> str:\n",
    "        \"\"\"Summarize the input text by randomly selecting words\n",
    "        \n",
    "        Args:\n",
    "            text (str): Input text to summarize\n",
    "            \n",
    "        Returns:\n",
    "            str: Summarized text with approximately num_tokens words\n",
    "        \"\"\"\n",
    "        if not text or not text.strip():\n",
    "            return \"\"\n",
    "            \n",
    "        # Split text into words\n",
    "        words = text.split()\n",
    "        \n",
    "        # If num_tokens is greater than available words, return full text\n",
    "        if self.num_tokens >= len(words):\n",
    "            return text\n",
    "            \n",
    "        # Create list of indices and randomly select num_tokens of them\n",
    "        indices = list(range(len(words)))\n",
    "        selected_indices = sorted(random.sample(indices, self.num_tokens))\n",
    "        \n",
    "        # Build summary using selected indices to maintain word order\n",
    "        summary_words = [words[i] for i in selected_indices]\n",
    "        \n",
    "        return \" \".join(summary_words)"
   ]
  },
  {
   "cell_type": "markdown",
   "id": "6641c7ed-d593-492d-8403-4b53897b25d2",
   "metadata": {},
   "source": [
    "## Generate Prompt Dataset"
   ]
  },
  {
   "cell_type": "code",
   "execution_count": null,
   "id": "73286b47-6f29-48d9-b91a-a4eda3083204",
   "metadata": {},
   "outputs": [],
   "source": [
    "from pprint import pprint\n",
    "import json\n",
    "import random\n",
    "\n",
    "prompt_template = instruction='''Summarize the news article provided below. Do not provide anything other than a clean summarization in couple sentences.\n",
    "\n",
    "Article: {}\n",
    "'''\n",
    "\n",
    "def to_prompt_json(obj, summarizer):\n",
    "    article = obj['article']\n",
    "    highlight = obj.get('highlights')\n",
    "\n",
    "    return {\n",
    "        'prompt': prompt_template.format(article),\n",
    "        'referenceResponse': highlight,\n",
    "        'modelResponses': {\n",
    "            'modelIdentifier': 'dummy',\n",
    "            'response': summarizer(article),\n",
    "        },\n",
    "    }\n",
    "\n",
    "def to_prompt_json_line(obj, summarizer):\n",
    "    return json.dumps(to_prompt_json(obj, summarizer)) + '\\n'"
   ]
  },
  {
   "cell_type": "code",
   "execution_count": null,
   "id": "e123030f-8dcb-441a-b203-bf10c2dd62d7",
   "metadata": {},
   "outputs": [],
   "source": [
    "import random\n",
    "\n",
    "prompt_file_name = 'cnn_dailymail_byoi.jsonl'\n",
    "\n",
    "# Randomly select 10 prompts\n",
    "indices = [random.randint(0, len(train_set)) for _ in range(10)]\n",
    "\n",
    "summarizer = DummySummarizer(100)\n",
    "\n",
    "with open(prompt_file_name, 'w') as f:\n",
    "    f.writelines([to_prompt_json_line(train_set[i], summarizer) for i in indices])"
   ]
  },
  {
   "cell_type": "code",
   "execution_count": null,
   "id": "c3c3897b-5576-4d35-8522-52abfc3f6328",
   "metadata": {},
   "outputs": [],
   "source": [
    "from pprint import pprint\n",
    "\n",
    "print('### Example Prompt Json looks like this ###')\n",
    "\n",
    "with open(prompt_file_name, 'r') as f:\n",
    "    s = f.readline()\n",
    "    pprint(json.loads(s))"
   ]
  },
  {
   "cell_type": "markdown",
   "id": "0fa87937-650b-4f53-b415-4d69f9da36a1",
   "metadata": {},
   "source": [
    "## Upload Data to S3"
   ]
  },
  {
   "cell_type": "code",
   "execution_count": null,
   "id": "6b714975-5f2d-400c-81f7-b84e1bc08e9d",
   "metadata": {},
   "outputs": [],
   "source": [
    "import boto3\n",
    "\n",
    "sts_client = boto3.client('sts')\n",
    "account_info = sts_client.get_caller_identity()\n",
    "account_id = account_info['Account']\n",
    "\n",
    "bucket_name = f\"bedrock-evaluation-{account_id}\"\n",
    "\n",
    "s3_client = boto3.client('s3')\n",
    "\n",
    "object_key = f'datasets/{prompt_file_name}'\n",
    "print(f'## Uploading {prompt_file_name} to s3://{bucket_name}/{object_key}')\n",
    "s3_client.upload_file(prompt_file_name, bucket_name, object_key)"
   ]
  }
 ],
 "metadata": {
  "kernelspec": {
   "display_name": "Python 3 (ipykernel)",
   "language": "python",
   "name": "python3"
  },
  "language_info": {
   "codemirror_mode": {
    "name": "ipython",
    "version": 3
   },
   "file_extension": ".py",
   "mimetype": "text/x-python",
   "name": "python",
   "nbconvert_exporter": "python",
   "pygments_lexer": "ipython3",
   "version": "3.10.16"
  }
 },
 "nbformat": 4,
 "nbformat_minor": 5
}
