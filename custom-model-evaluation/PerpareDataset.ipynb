{
 "cells": [
  {
   "cell_type": "markdown",
   "id": "9bba9c4a-4f68-4623-83cf-ca08135b4837",
   "metadata": {},
   "source": [
    "# Prepare Fine-Tune Dataset\n",
    "\n",
    "This notebook will generate a train dataset for fine tuning job using [GSM8k](https://huggingface.co/datasets/openai/gsm8k) dataset"
   ]
  },
  {
   "cell_type": "markdown",
   "id": "384445d2-b2db-4da6-884d-f3ced3ca9038",
   "metadata": {},
   "source": [
    "## Install dependencies"
   ]
  },
  {
   "cell_type": "code",
   "execution_count": null,
   "id": "bbe091cc-e99f-4d28-a362-56a1a7215e65",
   "metadata": {},
   "outputs": [],
   "source": [
    "%pip install -U datasets"
   ]
  },
  {
   "cell_type": "markdown",
   "id": "389f25be-1dac-4380-92cc-bd99b87eafff",
   "metadata": {},
   "source": [
    "## Get GSM8k Dataset\n",
    "\n",
    "Restart the kernel if the command fails"
   ]
  },
  {
   "cell_type": "code",
   "execution_count": null,
   "id": "cd338ebb-f591-42d1-8f7a-b94d522f3469",
   "metadata": {},
   "outputs": [],
   "source": [
    "from datasets import load_dataset\n",
    "\n",
    "dataset = load_dataset(\"openai/gsm8k\", \"main\")\n",
    "train_set = dataset['train']\n",
    "test_set = dataset['test']"
   ]
  },
  {
   "cell_type": "markdown",
   "id": "5c3232eb-48bc-423b-bd47-2bb858c5cf87",
   "metadata": {},
   "source": [
    "## Format question prompt"
   ]
  },
  {
   "cell_type": "code",
   "execution_count": null,
   "id": "36467736-c43a-4e62-bedb-3866511edda0",
   "metadata": {},
   "outputs": [],
   "source": [
    "from pprint import pprint\n",
    "import random\n",
    "\n",
    "prompt_template = \"\"\"Solve the following math problem.\n",
    "\n",
    "{}\n",
    "\n",
    "Respond by only providing an answer to the question\"\"\"\n",
    "\n",
    "def to_prompt_json(obj):\n",
    "    quesiton = obj.get('question')\n",
    "    answer = obj.get('answer')\n",
    "    answer_pos = answer.find('####') + 4\n",
    "    arith_answer = answer[answer_pos:]\n",
    "\n",
    "    return {\n",
    "        'prompt': prompt_template.format(quesiton),\n",
    "        'referenceResponse': arith_answer.strip(),\n",
    "    }\n",
    "\n",
    "def to_prompt_json_line(obj):\n",
    "    return json.dumps(to_prompt_json(obj)) + '\\n'\n",
    "\n",
    "print('### Prompt looks like this ###\\n')\n",
    "pprint(to_prompt_json(train_set[random.randint(0, len(train_set))]))"
   ]
  },
  {
   "cell_type": "markdown",
   "id": "270adc9b-fbc2-48e5-a264-86cee26760dd",
   "metadata": {},
   "source": [
    "## Generate Dataset File"
   ]
  },
  {
   "cell_type": "code",
   "execution_count": null,
   "id": "ead5053c-fddb-4279-809e-3610804891e8",
   "metadata": {},
   "outputs": [],
   "source": [
    "import json\n",
    "import random\n",
    "\n",
    "# Randomly select 10 prompts\n",
    "indices = [random.randint(0, len(train_set)) for _ in range(10)]\n",
    "\n",
    "prompt_file_name = 'gsm8k.jsonl'\n",
    "\n",
    "with open(prompt_file_name, 'w') as f:\n",
    "    f.writelines([to_prompt_json_line(train_set[i]) for i in indices])"
   ]
  },
  {
   "cell_type": "markdown",
   "id": "6533a6a2-6757-412b-9aac-b47231ce4b72",
   "metadata": {},
   "source": [
    "## Upload to S3"
   ]
  },
  {
   "cell_type": "code",
   "execution_count": null,
   "id": "febdf1ad-91bb-4d85-86cd-d2a98cc8d175",
   "metadata": {},
   "outputs": [],
   "source": [
    "import boto3\n",
    "\n",
    "sts_client = boto3.client('sts')\n",
    "account_info = sts_client.get_caller_identity()\n",
    "account_id = account_info['Account']\n",
    "\n",
    "bucket_name = f\"bedrock-evaluation-{account_id}\"\n",
    "\n",
    "s3_client = boto3.client('s3')\n",
    "\n",
    "object_key = f'datasets/{prompt_file_name}'\n",
    "print(f'## Uploading {prompt_file_name} to s3://{bucket_name}/{object_key}')\n",
    "s3_client.upload_file(prompt_file_name, bucket_name, object_key)\n",
    "print('Upload Complete')"
   ]
  }
 ],
 "metadata": {
  "kernelspec": {
   "display_name": "Python 3 (ipykernel)",
   "language": "python",
   "name": "python3"
  },
  "language_info": {
   "codemirror_mode": {
    "name": "ipython",
    "version": 3
   },
   "file_extension": ".py",
   "mimetype": "text/x-python",
   "name": "python",
   "nbconvert_exporter": "python",
   "pygments_lexer": "ipython3",
   "version": "3.11.11"
  }
 },
 "nbformat": 4,
 "nbformat_minor": 5
}
