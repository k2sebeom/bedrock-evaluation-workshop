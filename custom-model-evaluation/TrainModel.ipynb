{
 "cells": [
  {
   "cell_type": "markdown",
   "id": "23d5b7cf-df73-47a2-8d59-16dc4f8d74da",
   "metadata": {},
   "source": [
    "# Train Custom Model"
   ]
  },
  {
   "cell_type": "markdown",
   "id": "da4474d5-25db-4ca1-8ed4-dd1fbd1c5c40",
   "metadata": {},
   "source": [
    "## SageMaker Roles and Buckets"
   ]
  },
  {
   "cell_type": "code",
   "execution_count": null,
   "id": "49a8f492-be80-4437-a0d9-107f0326f6ff",
   "metadata": {},
   "outputs": [],
   "source": [
    "import sagemaker\n",
    "\n",
    "sagemaker_session = sagemaker.Session()\n",
    "\n",
    "bucket = sagemaker_session.default_bucket()\n",
    "prefix = \"sagemaker/gsm8k\"\n",
    "role = sagemaker.get_execution_role()"
   ]
  },
  {
   "cell_type": "markdown",
   "id": "9813845b-0800-4ea2-9595-f566968477b3",
   "metadata": {},
   "source": [
    "## Upload data to SageMaker Bucket"
   ]
  },
  {
   "cell_type": "code",
   "execution_count": null,
   "id": "7e05a65e-1279-4c25-897c-be3a48156f11",
   "metadata": {},
   "outputs": [],
   "source": [
    "inputs = sagemaker_session.upload_data(\n",
    "    path=\"gsm8k.jsonl\",\n",
    "    bucket=bucket,\n",
    "    key_prefix=prefix\n",
    ")\n",
    "print(\"input spec (in this case, just an S3 path): {}\".format(inputs))"
   ]
  },
  {
   "cell_type": "markdown",
   "id": "7b11de92-fe49-4a8e-925e-3e6a5496a32a",
   "metadata": {},
   "source": [
    "## Submit a Fine-tuning Job"
   ]
  },
  {
   "cell_type": "code",
   "execution_count": null,
   "id": "1a56fd83-163a-4cc3-82df-3881dbde09c5",
   "metadata": {},
   "outputs": [],
   "source": [
    "from sagemaker.pytorch import PyTorch\n",
    "from pathlib import Path\n",
    "\n",
    "estimator = PyTorch(\n",
    "    entry_point='fine_tune.py',\n",
    "    source_dir=f'{Path.cwd()}/src',\n",
    "    role=role,\n",
    "    py_version=\"py311\",\n",
    "    framework_version='2.3.0',\n",
    "    instance_count=1,\n",
    "    instance_type='ml.g4dn.xlarge',\n",
    "    hyperparameters={\n",
    "        \"epochs\": 30,\n",
    "        \"model-id\": \"unsloth/Llama-3.2-1B-Instruct\",\n",
    "        \"lr\": 1e-3,\n",
    "        \"data-file\": \"gsm8k.jsonl\",\n",
    "    },\n",
    "    disable_output_compression=True,\n",
    ")"
   ]
  },
  {
   "cell_type": "code",
   "execution_count": null,
   "id": "8a65bfca-e663-4313-9067-464ee514c4ce",
   "metadata": {},
   "outputs": [],
   "source": [
    "estimator.fit({\"training\": inputs})"
   ]
  },
  {
   "cell_type": "markdown",
   "id": "fb2f643e-4a9d-42c8-b421-dadd081f3712",
   "metadata": {},
   "source": [
    "## Move model artifacts for Custom Model Import"
   ]
  },
  {
   "cell_type": "code",
   "execution_count": null,
   "id": "11a3fd11-3ee1-46e0-a0f6-6e915d65ac06",
   "metadata": {},
   "outputs": [],
   "source": [
    "last_train_job = estimator.jobs[-1].describe()\n",
    "artifact_path = last_train_job['ModelArtifacts']['S3ModelArtifacts']\n",
    "artifact_key = artifact_path[artifact_path.find(bucket) + len(bucket):].lstrip('/')\n",
    "print(f'Model Artifacts at {artifact_path}')"
   ]
  },
  {
   "cell_type": "code",
   "execution_count": null,
   "id": "e1e78754-9c75-4045-918d-f0e9b6dfb0e9",
   "metadata": {},
   "outputs": [],
   "source": [
    "import boto3\n",
    "import tarfile\n",
    "\n",
    "sts_client = boto3.client('sts')\n",
    "account_info = sts_client.get_caller_identity()\n",
    "account_id = account_info['Account']\n",
    "\n",
    "bucket_name = f\"bedrock-custom-model-{account_id}\""
   ]
  },
  {
   "cell_type": "code",
   "execution_count": null,
   "id": "867ca1d1-d40e-4a1d-96d0-8b7686b49f28",
   "metadata": {},
   "outputs": [],
   "source": [
    "s3 = boto3.resource('s3')\n",
    "src_bucket = s3.Bucket(bucket)\n",
    "dst_bucket = s3.Bucket(bucket_name)\n",
    "\n",
    "for obj in src_bucket.objects.filter(Prefix=artifact_key):\n",
    "    old_source = {'Bucket': bucket, 'Key': obj.key}\n",
    "    new_key = obj.key.replace(artifact_key, 'fine-tuned-model', 1)\n",
    "    print(f\"Copy {obj.key}\\n\\t-> {new_key}\")\n",
    "    new_obj = dst_bucket.Object(new_key)\n",
    "    new_obj.copy(old_source)"
   ]
  }
 ],
 "metadata": {
  "kernelspec": {
   "display_name": "Python 3 (ipykernel)",
   "language": "python",
   "name": "python3"
  },
  "language_info": {
   "codemirror_mode": {
    "name": "ipython",
    "version": 3
   },
   "file_extension": ".py",
   "mimetype": "text/x-python",
   "name": "python",
   "nbconvert_exporter": "python",
   "pygments_lexer": "ipython3",
   "version": "3.11.11"
  }
 },
 "nbformat": 4,
 "nbformat_minor": 5
}
