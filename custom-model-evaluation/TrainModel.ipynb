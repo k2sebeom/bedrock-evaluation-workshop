{
 "cells": [
  {
   "cell_type": "markdown",
   "id": "23d5b7cf-df73-47a2-8d59-16dc4f8d74da",
   "metadata": {},
   "source": [
    "# "
   ]
  },
  {
   "cell_type": "code",
   "execution_count": null,
   "id": "49a8f492-be80-4437-a0d9-107f0326f6ff",
   "metadata": {},
   "outputs": [],
   "source": [
    "import sagemaker\n",
    "\n",
    "sagemaker_session = sagemaker.Session()\n",
    "\n",
    "bucket = sagemaker_session.default_bucket()\n",
    "prefix = \"sagemaker/gsm8k\"\n",
    "role = sagemaker.get_execution_role()"
   ]
  },
  {
   "cell_type": "code",
   "execution_count": null,
   "id": "7e05a65e-1279-4c25-897c-be3a48156f11",
   "metadata": {},
   "outputs": [],
   "source": [
    "inputs = sagemaker_session.upload_data(\n",
    "    path=\"gsm8k.jsonl\",\n",
    "    bucket=bucket,\n",
    "    key_prefix=prefix\n",
    ")\n",
    "print(\"input spec (in this case, just an S3 path): {}\".format(inputs))"
   ]
  },
  {
   "cell_type": "code",
   "execution_count": null,
   "id": "5a63a343-02ca-4d11-b038-307230bf3131",
   "metadata": {},
   "outputs": [],
   "source": [
    "inputs"
   ]
  },
  {
   "cell_type": "code",
   "execution_count": null,
   "id": "89bb2a2e-77f4-4386-83a1-1b9ec9d36e20",
   "metadata": {},
   "outputs": [],
   "source": [
    "from datasets import load_dataset\n",
    "\n",
    "dataset = load_dataset(\"openai/gsm8k\", \"main\")\n",
    "train_set = dataset['train']\n",
    "test_set = dataset['test']"
   ]
  },
  {
   "cell_type": "code",
   "execution_count": null,
   "id": "463e28f6-0a7a-4496-83a5-ce814ffc8c52",
   "metadata": {},
   "outputs": [],
   "source": [
    "from transformers import AutoTokenizer, AutoModelForCausalLM\n",
    "\n",
    "model_id = 'unsloth/Llama-3.2-1B-Instruct'\n",
    "\n",
    "tokenizer = AutoTokenizer.from_pretrained(model_id)"
   ]
  },
  {
   "cell_type": "code",
   "execution_count": null,
   "id": "e6159578-c600-4245-8712-e82d394998b1",
   "metadata": {},
   "outputs": [],
   "source": [
    "import json\n",
    "import pandas as pd\n",
    "\n",
    "with open('gsm8k.jsonl', 'r') as f:\n",
    "    prompts = [json.loads(line) for line in f.readlines()]\n",
    "\n",
    "df = pd.DataFrame({\n",
    "    'prompts': [p['prompt'] for p in prompts],\n",
    "    'answers': [p['referenceResponse'] for p in prompts]\n",
    "})\n",
    "df.head()"
   ]
  },
  {
   "cell_type": "code",
   "execution_count": null,
   "id": "272400a9-8752-4b26-888b-77ade7f48bac",
   "metadata": {},
   "outputs": [],
   "source": [
    "from datasets import Dataset\n",
    "\n",
    "training_data = Dataset.from_pandas(df)\n",
    "\n",
    "def to_chat(prompts):\n",
    "    texts = []\n",
    "    inputs = prompts[\"prompts\"]\n",
    "    outputs = prompts[\"answers\"]\n",
    "\n",
    "    for input_, output in zip(inputs, outputs):\n",
    "        text = tokenizer.apply_chat_template([\n",
    "          {\"role\": \"user\", \"content\": input_},\n",
    "          {\"role\": \"assistant\", \"content\": output},\n",
    "        ], tokenize=False)\n",
    "        texts.append(text)\n",
    "\n",
    "    return { \"text\" : texts, }\n",
    "\n",
    "training_data = training_data.map(to_chat, batched=True)"
   ]
  },
  {
   "cell_type": "code",
   "execution_count": null,
   "id": "1a56fd83-163a-4cc3-82df-3881dbde09c5",
   "metadata": {},
   "outputs": [],
   "source": [
    "from sagemaker.pytorch import PyTorch\n",
    "from pathlib import Path\n",
    "\n",
    "estimator = PyTorch(\n",
    "    entry_point='fine_tune.py',\n",
    "    source_dir=f'{Path.cwd()}/src',\n",
    "    role=role,\n",
    "    py_version=\"py311\",\n",
    "    framework_version='2.3.0',\n",
    "    instance_count=1,\n",
    "    instance_type='ml.g5.2xlarge',\n",
    "    hyperparameters={\n",
    "        \"epochs\": 10,\n",
    "        \"model-id\": \"unsloth/Llama-3.2-1B-Instruct\",\n",
    "        \"lr\": 1e-3,\n",
    "        \"data-file\": \"gsm8k.jsonl\",\n",
    "    },\n",
    "    disable_output_compression=True,\n",
    ")"
   ]
  },
  {
   "cell_type": "code",
   "execution_count": null,
   "id": "8a65bfca-e663-4313-9067-464ee514c4ce",
   "metadata": {},
   "outputs": [],
   "source": [
    "estimator.fit({\"training\": inputs})"
   ]
  },
  {
   "cell_type": "markdown",
   "id": "fb2f643e-4a9d-42c8-b421-dadd081f3712",
   "metadata": {},
   "source": [
    "## Move model artifacts for Custom Model Import"
   ]
  },
  {
   "cell_type": "code",
   "execution_count": null,
   "id": "e1e78754-9c75-4045-918d-f0e9b6dfb0e9",
   "metadata": {},
   "outputs": [],
   "source": [
    "import boto3\n",
    "import tarfile\n",
    "\n",
    "sts_client = boto3.client('sts')\n",
    "account_info = sts_client.get_caller_identity()\n",
    "account_id = account_info['Account']\n",
    "\n",
    "bucket_name = f\"bedrock-custom-model-{account_id}\"\n",
    "\n",
    "s3_client = boto3.client('s3')\n",
    "\n",
    "s3_client.download_file(artifact_path)"
   ]
  },
  {
   "cell_type": "code",
   "execution_count": null,
   "id": "80bd367b-b94d-4b1c-9fa7-e6bb8e8ac646",
   "metadata": {},
   "outputs": [],
   "source": []
  },
  {
   "cell_type": "code",
   "execution_count": null,
   "id": "698a4b0d-5c78-4fb1-8d6f-ac75c25b9f55",
   "metadata": {},
   "outputs": [],
   "source": []
  }
 ],
 "metadata": {
  "kernelspec": {
   "display_name": "Python 3 (ipykernel)",
   "language": "python",
   "name": "python3"
  },
  "language_info": {
   "codemirror_mode": {
    "name": "ipython",
    "version": 3
   },
   "file_extension": ".py",
   "mimetype": "text/x-python",
   "name": "python",
   "nbconvert_exporter": "python",
   "pygments_lexer": "ipython3",
   "version": "3.11.11"
  }
 },
 "nbformat": 4,
 "nbformat_minor": 5
}
